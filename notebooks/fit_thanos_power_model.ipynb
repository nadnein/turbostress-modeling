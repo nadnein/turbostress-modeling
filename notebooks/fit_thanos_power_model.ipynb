{
 "cells": [
  {
   "cell_type": "markdown",
   "metadata": {},
   "source": [
    "##  Fit a polynomial model to the turbostress readings from thanos"
   ]
  },
  {
   "cell_type": "code",
   "execution_count": 3,
   "metadata": {},
   "outputs": [
    {
     "name": "stdout",
     "output_type": "stream",
     "text": [
      "\n",
      "Fitted polynomial coefficients (degree 2, highest degree first):\n",
      "[-0.02332, 4.42125, 51.32497]\n"
     ]
    }
   ],
   "source": [
    "from cpu_power_modeling import read_turbostress_ts, fit_polynomial_model\n",
    "\n",
    "# Fit a polynomial model to the turbostress readings\n",
    "x, y = read_turbostress_ts(\"../data/turbostress/ts-results-thanos.csv\")\n",
    "model = fit_polynomial_model(x, y, degree=2)"
   ]
  }
 ],
 "metadata": {
  "kernelspec": {
   "display_name": ".venv",
   "language": "python",
   "name": "python3"
  },
  "language_info": {
   "codemirror_mode": {
    "name": "ipython",
    "version": 3
   },
   "file_extension": ".py",
   "mimetype": "text/x-python",
   "name": "python",
   "nbconvert_exporter": "python",
   "pygments_lexer": "ipython3",
   "version": "3.13.3"
  }
 },
 "nbformat": 4,
 "nbformat_minor": 2
}
